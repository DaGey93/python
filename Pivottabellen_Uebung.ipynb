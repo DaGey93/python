{
 "cells": [
  {
   "cell_type": "markdown",
   "metadata": {},
   "source": [
    "# Übungen zu Pivottabellen"
   ]
  },
  {
   "cell_type": "markdown",
   "metadata": {},
   "source": [
    "## Aufgabe 1\n",
    "Arbeiten Sie das Tutorial in der Datei [Pandas-Pivot-Table-Explained.ipynb](Pandas-Pivot-Table-Explained.ipynb) durch und beantworten Sie dann folgende Fragen:\n",
    "\n",
    "### 1.1 Festlegen einer Ordnung\n",
    "Angenommen, man hätte in einem Data Frame eine Spalte, in der Monate mit Namenskürzeln `JAN, FEB, MRZ, ..., NOV, DEZ` erfasst sind statt mit den Zahlen von 1-12. Was könnte man dann tun, um bei Verwendung dieser Spalte in Pivottabellen sicher zu stellen, dass diese Werte in der gewünschten Ordnung ausgegeben werden?\n",
    "\n",
    "**Antwort:** Man könnte dies wie folgt lösen (der Spaltenname sei `Monat`):\n",
    "```python\n",
    "df[\"Monat\"] = df[\"Monat\"].astype(\"category\")\n",
    "df[\"Monat\"].cat.set_categories([\"JAN\",\"FEB\",\"MRZ\",\"APR\",\"MAI\",\"JUN\",\"JUL\",\"AUG\",\"SEP\",\"OKT\",\"NOV\",\"DEZ\"],inplace=True)\n",
    "```"
   ]
  },
  {
   "cell_type": "markdown",
   "metadata": {},
   "source": [
    "### 1.2 Spalten und Aggregatfunktionen\n",
    "Was ist von den Pivottabellen in den Zellen 7-9 zu halten? Gehen Sie in Ihrer Antwort insbesondere auf die Verwendung der Spalte `Postal Code` sowie die verwendete Aggregatfunktion ein.\n",
    "\n",
    "**Antwort:** In den Pivottabellen wird die Standard-Aggregatfunktion `mean`, also der Mittelwert, verwendet und zwar für sämtliche Spalten, die einen numerischen Datentyp haben. Vermutlich wäre hier `sum` als Aggregatfunktion besser geeignet. Vor allem aber ergibt eine Aggregation der Spalte `Postal Code` überhaupt keinen Sinn, denn dies ist sicherlich keine Maßzahl, mit der man rechnen kann."
   ]
  },
  {
   "cell_type": "markdown",
   "metadata": {},
   "source": [
    "### 1.3 `margins`\n",
    "Wozu dient der Parameter `margins` und `margins_name` der Funtion `pivot_table()`?\n",
    "\n",
    "**Antwort:** Mit Hilfe dieses Parameters wird eine Summenzeile bzw. Summenspalte hinzugefügt. Die Benennung erfolgt durch `margins_name`."
   ]
  },
  {
   "cell_type": "markdown",
   "metadata": {},
   "source": [
    "### 1.4 Aggregation nach Datum\n",
    "Wie würden Sie verfahren, wenn Sie in Zelle 13 statt der Aggregation nach Regionen, eine Aggregation nach Jahren erhalten möchten?\n",
    "\n",
    "**Antwort:** Leider geschieht durch `pivot_table()` kein automatisches Drill-up der Datetime-Werte in `Order Date`. Eine Spalte `year` muss daher aus der Spalte `Order Date` erzeugt werden. Beispielsweise durch `df['Year']=df['Order Date'].dt.year`."
   ]
  },
  {
   "cell_type": "markdown",
   "metadata": {},
   "source": [
    "### 1.5 Aggregation von Quantity\n",
    "Ist die Verwendung der Aggregatfunktion `len` für das Attribut `Quantity` sinnvoll (wie z.B. in Zelle 18)? Was könnte hier evtl. schief gehen?\n",
    "\n",
    "**Antwort:** Die Verwendung von `len` entspräche der Verwendung von `COUNT` in SQL und ist daher *nicht* sinnvoll, denn man muss summieren, da es Anzahlen größer als 1 gibt. Zur Verdeutlichung wiederhole man etwa Zelle 18 mit `np.sum` anstelle von `len`."
   ]
  },
  {
   "cell_type": "markdown",
   "metadata": {},
   "source": [
    "### 1.6 Multi-dimensionale Operationen\n",
    "Den in dem Tutorial verwendeten Daten könnte folgendes (qualitativ nicht sehr hochwertiges) *Sternschema* zu Grunde liegen.\n",
    "\n",
    "![ER-Modell Sternschema](img/StoreSalesStar.png)\n",
    "\n",
    "Welche multi-dimensionalen Operationen wurden dann mit den Pivottabellen in den Zellen \n",
    "\n",
    "1. 10 $\\rightarrow$ *Drill-down* in der Dimension `DimProduct`\n",
    "2. 21 $\\rightarrow$ *Split* der Werte für die Kategorien nach dem Kundensegment \n",
    "3. 25 $\\rightarrow$ *Slicing*, da der Wert für Category festgelegt wird \n",
    "4. 17 $\\rightarrow$ Kombination aus *Drill-down* (Category-SubCategory) und *Split* (Region)\n",
    "\n",
    "umgesetzt? (**Antworten** s.o.; jeweils sichtbar in den Zeilenfeldern)"
   ]
  },
  {
   "cell_type": "markdown",
   "metadata": {},
   "source": [
    "## Aufgabe 2\n",
    "Erweitern Sie die Datei [Pandas-Pivot-Table-Explained.ipynb](Pandas-Pivot-Table-Explained.ipynb) um die Möglichkeit, die dortigen Pivottabellen nochmals mit `pivottablejs` zu erstellen. Tun Sie das dann auch für die Tabellen in den Zellen 10, 17 und 21. Machen Sie davon jeweils *Screenshots*, die Sie hier als Lösung einfügen.\n",
    "\n",
    "**Hinweis 1:** Wie man Bilder in Markdown einfügt, erklärt das [Cheat Sheet](https://guides.github.com/pdfs/markdown-cheatsheet-online.pdf). Sie können aber auch eine Zelle mit einem Bild aus der Themenausarbeitung mal im Edit mode öffnen. Dort sehen Sie dann eine Möglichkeit, ein Bild mit normalem HTML *skaliert* einzufügen.\n",
    "\n",
    "**Hinweis 2:** Je nach Betriebssystem, sowie Version und Art Ihrer Pythoninstallation kann es vorkommen, dass Sie bei Verwendung von `pivottablejs` Null-Werte erhalten (der Datensatz enthält keine Null-Werte). Dies hängt mit der Art der Zeilenumbrüche zusammen und kann mit einer Neudefinition der `pivot_ui()`-Funktion behoben werden. Sollten zusätzliche Null-Werte bei Ihnen auftreten, definieren Sie die Funktion wie folgt:"
   ]
  },
  {
   "cell_type": "code",
   "execution_count": null,
   "metadata": {},
   "outputs": [],
   "source": [
    "def pivot_ui(df, **kwargs):\n",
    "    import pivottablejs\n",
    "    class _DataFrame(pd.DataFrame):\n",
    "        def to_csv(self, **kwargs):\n",
    "            return super().to_csv(**kwargs).replace(\"\\r\\n\", \"\\n\")\n",
    "    return pivottablejs.pivot_ui(_DataFrame(df), **kwargs)"
   ]
  },
  {
   "cell_type": "markdown",
   "metadata": {},
   "source": [
    "Dieser Workaround stammt von GitHub-User [s13i](https://github.com/nicolaskruchten/jupyter_pivottablejs/issues/52#issuecomment-528409060)"
   ]
  },
  {
   "cell_type": "markdown",
   "metadata": {
    "collapsed": true
   },
   "source": [
    "### Zelle 10\n",
    "\n",
    "![Pivottabelle Zelle 10](img/ptcell_new_10.png)\n",
    "\n",
    "### Zelle 17\n",
    "\n",
    "![Pivottabelle Zelle 13](img/ptcell_new_13.png)\n",
    "\n",
    "### Zelle 21\n",
    "\n",
    "![Pivottabelle Zelle 17](img/ptcell_new_17.png)\n",
    "\n",
    "**Zu beachten:** Mit `pivottablejs` werden immer die Summenwerte mit berechnet (entsprechend `margins=True`)!\n"
   ]
  },
  {
   "cell_type": "code",
   "execution_count": null,
   "metadata": {},
   "outputs": [],
   "source": []
  }
 ],
 "metadata": {
  "kernelspec": {
   "display_name": "Python 3",
   "language": "python",
   "name": "python3"
  },
  "language_info": {
   "codemirror_mode": {
    "name": "ipython",
    "version": 3
   },
   "file_extension": ".py",
   "mimetype": "text/x-python",
   "name": "python",
   "nbconvert_exporter": "python",
   "pygments_lexer": "ipython3",
   "version": "3.7.4"
  }
 },
 "nbformat": 4,
 "nbformat_minor": 2
}

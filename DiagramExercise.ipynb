{
 "cells": [
  {
   "cell_type": "markdown",
   "metadata": {},
   "source": [
    "# Prerequisite: Load data into pandas\n",
    "Now you should start to develop your own diagrams. To do so, download the file <b>sales.csv</b> from Moodle and read it into pandas. \n",
    "<b>Hints:</b>\n",
    "<ul>\n",
    "    <li> Take a look at the parameter <i>parse_dates</i>.</li>\n",
    "    <li> Of course you should start using a text editor to take a look at the contents.</li>\n",
    "</ul>"
   ]
  },
  {
   "cell_type": "code",
   "execution_count": 1,
   "metadata": {},
   "outputs": [],
   "source": [
    "import pandas as pd\n",
    "import numpy as np\n",
    "import matplotlib as mp\n",
    "import matplotlib.pyplot as plt"
   ]
  },
  {
   "cell_type": "code",
   "execution_count": 2,
   "metadata": {},
   "outputs": [
    {
     "data": {
      "text/html": [
       "<div>\n",
       "<style scoped>\n",
       "    .dataframe tbody tr th:only-of-type {\n",
       "        vertical-align: middle;\n",
       "    }\n",
       "\n",
       "    .dataframe tbody tr th {\n",
       "        vertical-align: top;\n",
       "    }\n",
       "\n",
       "    .dataframe thead th {\n",
       "        text-align: right;\n",
       "    }\n",
       "</style>\n",
       "<table border=\"1\" class=\"dataframe\">\n",
       "  <thead>\n",
       "    <tr style=\"text-align: right;\">\n",
       "      <th></th>\n",
       "      <th>Date</th>\n",
       "      <th>Food</th>\n",
       "      <th>Print</th>\n",
       "      <th>Stationery</th>\n",
       "    </tr>\n",
       "  </thead>\n",
       "  <tbody>\n",
       "    <tr>\n",
       "      <th>0</th>\n",
       "      <td>2016-01-01</td>\n",
       "      <td>13.0</td>\n",
       "      <td>NaN</td>\n",
       "      <td>19.0</td>\n",
       "    </tr>\n",
       "    <tr>\n",
       "      <th>1</th>\n",
       "      <td>2016-02-01</td>\n",
       "      <td>5.0</td>\n",
       "      <td>15.0</td>\n",
       "      <td>12.0</td>\n",
       "    </tr>\n",
       "    <tr>\n",
       "      <th>2</th>\n",
       "      <td>2016-03-01</td>\n",
       "      <td>1.0</td>\n",
       "      <td>10.0</td>\n",
       "      <td>20.0</td>\n",
       "    </tr>\n",
       "    <tr>\n",
       "      <th>3</th>\n",
       "      <td>2016-04-01</td>\n",
       "      <td>9.0</td>\n",
       "      <td>11.0</td>\n",
       "      <td>58.0</td>\n",
       "    </tr>\n",
       "    <tr>\n",
       "      <th>4</th>\n",
       "      <td>2016-05-01</td>\n",
       "      <td>NaN</td>\n",
       "      <td>31.0</td>\n",
       "      <td>10.0</td>\n",
       "    </tr>\n",
       "  </tbody>\n",
       "</table>\n",
       "</div>"
      ],
      "text/plain": [
       "        Date  Food  Print  Stationery\n",
       "0 2016-01-01  13.0    NaN        19.0\n",
       "1 2016-02-01   5.0   15.0        12.0\n",
       "2 2016-03-01   1.0   10.0        20.0\n",
       "3 2016-04-01   9.0   11.0        58.0\n",
       "4 2016-05-01   NaN   31.0        10.0"
      ]
     },
     "execution_count": 2,
     "metadata": {},
     "output_type": "execute_result"
    }
   ],
   "source": [
    "# load the data into pandas\n",
    "df = pd.read_csv(\"sales.csv\",sep=\";\",parse_dates=['Date'])\n",
    "df.head()"
   ]
  },
  {
   "cell_type": "markdown",
   "metadata": {},
   "source": [
    "# Exercise 1: Create charts conforming to IBCS using pandas and matplotlib\n",
    "As a next step, create a bar chart conforming to IBCS displaying the yearly aggregates of items sold per article group as a stacked bar chart.\n",
    "\n",
    "<b>Hints:</b>\n",
    "<ul>\n",
    "    <li>Take a look at the groupby function (http://pandas.pydata.org/pandas-docs/stable/groupby.html), in particular the aggregates section, first.</li>\n",
    "    <li><i>df[\"Year\"] = df.Date.dt.strftime('%Y')</i> extracts the year from a 'Date' column into a new column 'Year' .</li>\n",
    "    <li>matplotlib.colors.ListedColormap(['darkgrey', 'grey','lightgrey']) creates a new colormap using certain greys.</li>\n",
    "</ul>"
   ]
  },
  {
   "cell_type": "code",
   "execution_count": 3,
   "metadata": {},
   "outputs": [
    {
     "data": {
      "text/html": [
       "<div>\n",
       "<style scoped>\n",
       "    .dataframe tbody tr th:only-of-type {\n",
       "        vertical-align: middle;\n",
       "    }\n",
       "\n",
       "    .dataframe tbody tr th {\n",
       "        vertical-align: top;\n",
       "    }\n",
       "\n",
       "    .dataframe thead th {\n",
       "        text-align: right;\n",
       "    }\n",
       "</style>\n",
       "<table border=\"1\" class=\"dataframe\">\n",
       "  <thead>\n",
       "    <tr style=\"text-align: right;\">\n",
       "      <th></th>\n",
       "      <th>Food</th>\n",
       "      <th>Print</th>\n",
       "      <th>Stationery</th>\n",
       "    </tr>\n",
       "    <tr>\n",
       "      <th>Year</th>\n",
       "      <th></th>\n",
       "      <th></th>\n",
       "      <th></th>\n",
       "    </tr>\n",
       "  </thead>\n",
       "  <tbody>\n",
       "    <tr>\n",
       "      <th>2016</th>\n",
       "      <td>5419.0</td>\n",
       "      <td>5087.0</td>\n",
       "      <td>4655.0</td>\n",
       "    </tr>\n",
       "    <tr>\n",
       "      <th>2017</th>\n",
       "      <td>5132.0</td>\n",
       "      <td>5180.0</td>\n",
       "      <td>5220.0</td>\n",
       "    </tr>\n",
       "    <tr>\n",
       "      <th>2018</th>\n",
       "      <td>4426.0</td>\n",
       "      <td>5129.0</td>\n",
       "      <td>4995.0</td>\n",
       "    </tr>\n",
       "  </tbody>\n",
       "</table>\n",
       "</div>"
      ],
      "text/plain": [
       "        Food   Print  Stationery\n",
       "Year                            \n",
       "2016  5419.0  5087.0      4655.0\n",
       "2017  5132.0  5180.0      5220.0\n",
       "2018  4426.0  5129.0      4995.0"
      ]
     },
     "execution_count": 3,
     "metadata": {},
     "output_type": "execute_result"
    }
   ],
   "source": [
    "df[\"Year\"] = df.Date.dt.strftime('%Y')\n",
    "\n",
    "grouped = df.groupby(\"Year\")\n",
    "dfgrouped = grouped.aggregate(sum)\n",
    "dfgrouped.head()"
   ]
  },
  {
   "cell_type": "code",
   "execution_count": 4,
   "metadata": {},
   "outputs": [
    {
     "data": {
      "image/png": "[encoded data removed]",
      "text/plain": [
       "<Figure size 432x288 with 1 Axes>"
      ]
     },
     "metadata": {
      "needs_background": "light"
     },
     "output_type": "display_data"
    }
   ],
   "source": [
    "# for comparison: using matplotlib standard\n",
    "ax = dfgrouped.plot(kind='bar', stacked=True, legend=False)\n",
    "ax.set_ylabel(\"Category\")\n",
    "ax.set_title(\"Amout of products sold \\n by Product Category and Year\")\n",
    "plt.show()"
   ]
  },
  {
   "cell_type": "code",
   "execution_count": 5,
   "metadata": {},
   "outputs": [
    {
     "data": {
      "image/png": "[encoded data removed]",
      "text/plain": [
       "<Figure size 432x288 with 1 Axes>"
      ]
     },
     "metadata": {
      "needs_background": "light"
     },
     "output_type": "display_data"
    }
   ],
   "source": [
    "# applying IBCS rules\n",
    "cmap = mp.colors.ListedColormap(['darkgrey', 'grey','lightgrey'])\n",
    "ax = dfgrouped.plot(kind='bar', stacked=True, colormap=cmap, legend=False)\n",
    "# remove labels\n",
    "ax.set_xlabel(\"\")\n",
    "ax.set_ylabel(\"\")\n",
    "ax.set_title(\"Amout of products sold \\n by Product Category and Year\")\n",
    "ax.tick_params(bottom=False, left=False, labelleft=False)\n",
    "# add values to bars\n",
    "for p in ax.patches:\n",
    "    #           text                          x position               y position\n",
    "    ax.annotate(str(round(p.get_height(),2)), (p.get_x() + 0.1 , (p.get_y() + 2001.5) ))\n",
    "ax.set_frame_on(False)    \n",
    "# add category on right side\n",
    "ax.annotate(\"Food\",(ax.patches[2].get_x()+0.6,(ax.patches[2].get_y() + 2001.5)))\n",
    "ax.annotate(\"Print\",(ax.patches[5].get_x()+0.6,(ax.patches[5].get_y() + 2001.5)))\n",
    "ax.annotate(\"Stationery\",(ax.patches[8].get_x()+0.6,(ax.patches[8].get_y() + 2001.5)))\n",
    "plt.show()"
   ]
  },
  {
   "cell_type": "markdown",
   "metadata": {},
   "source": [
    "## Alternative: Horizontal bar chart"
   ]
  },
  {
   "cell_type": "code",
   "execution_count": 6,
   "metadata": {},
   "outputs": [
    {
     "data": {
      "image/png": "[encoded data removed]",
      "text/plain": [
       "<Figure size 432x288 with 1 Axes>"
      ]
     },
     "metadata": {
      "needs_background": "light"
     },
     "output_type": "display_data"
    }
   ],
   "source": [
    "# horizotal bar chat\n",
    "# title in a defined place\n",
    "\n",
    "ax = dfgrouped.plot(kind='barh', stacked=True, color=['darkgrey', 'grey','lightgrey'],legend=False)\n",
    "\n",
    "ax.set_ylabel(\"\")\n",
    "ax.set_xlabel(\"\")\n",
    "ax.set_title(\"Amout of products sold \\n by Product Category and Year\", pad=25)\n",
    "ax.tick_params(bottom=False,labelbottom=False, left=False)\n",
    "# add values to bars\n",
    "for p in ax.patches:\n",
    "    #           text                          x position               y position    \n",
    "    ax.annotate(str(round(p.get_width(),2)), (p.get_x() + 2000 , (p.get_y() + 0.2) ))\n",
    "ax.set_frame_on(False)    \n",
    "\n",
    "\n",
    "ax.annotate(\"Food\",(ax.patches[2].get_x()+2000,(ax.patches[2].get_y() + 0.6)))\n",
    "ax.annotate(\"Print\",(ax.patches[5].get_x()+2000,(ax.patches[5].get_y() + 0.6)))\n",
    "ax.annotate(\"Stationery\",(ax.patches[8].get_x()+2000,(ax.patches[8].get_y() +0.6)))\n",
    "# for bottom placing, comment the three lines above and uncomment the three lines below\n",
    "#ax.annotate(\"Food\",(ax.patches[2].get_x()+2000,(ax.patches[2].get_y() -2.2 )))\n",
    "#ax.annotate(\"Print\",(ax.patches[5].get_x()+2000,(ax.patches[5].get_y() -2.2)))\n",
    "#ax.annotate(\"Stationery\",(ax.patches[8].get_x()+2000,(ax.patches[8].get_y() -2.2)))\n",
    "plt.show()"
   ]
  },
  {
   "cell_type": "code",
   "execution_count": null,
   "metadata": {},
   "outputs": [],
   "source": []
  }
 ],
 "metadata": {
  "kernelspec": {
   "display_name": "Python 3",
   "language": "python",
   "name": "python3"
  },
  "language_info": {
   "codemirror_mode": {
    "name": "ipython",
    "version": 3
   },
   "file_extension": ".py",
   "mimetype": "text/x-python",
   "name": "python",
   "nbconvert_exporter": "python",
   "pygments_lexer": "ipython3",
   "version": "3.7.4"
  }
 },
 "nbformat": 4,
 "nbformat_minor": 2
}
